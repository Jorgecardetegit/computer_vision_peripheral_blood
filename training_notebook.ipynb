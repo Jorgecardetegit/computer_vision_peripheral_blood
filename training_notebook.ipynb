{
  "nbformat": 4,
  "nbformat_minor": 0,
  "metadata": {
    "colab": {
      "provenance": [],
      "authorship_tag": "ABX9TyOa7W9EOZkwdaYJX7xE1NHF",
      "include_colab_link": true
    },
    "kernelspec": {
      "name": "python3",
      "display_name": "Python 3"
    },
    "language_info": {
      "name": "python"
    }
  },
  "cells": [
    {
      "cell_type": "markdown",
      "metadata": {
        "id": "view-in-github",
        "colab_type": "text"
      },
      "source": [
        "<a href=\"https://colab.research.google.com/github/Jorgecardetegit/computer_vision_peripheral_blood/blob/main/training_notebook.ipynb\" target=\"_parent\"><img src=\"https://colab.research.google.com/assets/colab-badge.svg\" alt=\"Open In Colab\"/></a>"
      ]
    },
    {
      "cell_type": "code",
      "execution_count": null,
      "metadata": {
        "colab": {
          "base_uri": "https://localhost:8080/"
        },
        "id": "Q3tMWbmEsqvG",
        "outputId": "9e56f989-02f3-434b-d5da-8fe807669160"
      },
      "outputs": [
        {
          "output_type": "stream",
          "name": "stdout",
          "text": [
            "Mounted at /content/drive\n"
          ]
        }
      ],
      "source": [
        "from google.colab import drive\n",
        "drive.mount('/content/drive')"
      ]
    },
    {
      "cell_type": "code",
      "source": [
        "directory_path=\"/content/drive/MyDrive/peripheral blood dataset\""
      ],
      "metadata": {
        "id": "PJOMPm1Pt6rW"
      },
      "execution_count": null,
      "outputs": []
    },
    {
      "cell_type": "code",
      "source": [
        "import tensorflow\n",
        "from tensorflow.keras.preprocessing.image import ImageDataGenerator\n",
        "\n",
        "data_gen = ImageDataGenerator(\n",
        "    rescale=1./255,\n",
        "    validation_split=0.2)"
      ],
      "metadata": {
        "id": "G32-md_lsrm-"
      },
      "execution_count": null,
      "outputs": []
    },
    {
      "cell_type": "code",
      "source": [
        "train_ds = data_gen.flow_from_directory(\n",
        "    directory=directory_path,\n",
        "    subset=\"training\",\n",
        "    seed=123,\n",
        "    target_size=(224,224),\n",
        "    batch_size=32,\n",
        "    class_mode='sparse',\n",
        "    shuffle=True\n",
        ")\n",
        "\n",
        "val_ds = data_gen.flow_from_directory(\n",
        "    directory=directory_path,\n",
        "    subset=\"validation\",\n",
        "    seed=123,\n",
        "    target_size=(224,224),\n",
        "    batch_size=32,\n",
        "    class_mode='sparse',\n",
        "    shuffle=True)"
      ],
      "metadata": {
        "colab": {
          "base_uri": "https://localhost:8080/"
        },
        "id": "HYvWNp0Hsrpp",
        "outputId": "51e56f01-4fe5-4acf-d83c-7bfe8926f45d"
      },
      "execution_count": null,
      "outputs": [
        {
          "output_type": "stream",
          "name": "stdout",
          "text": [
            "Found 13677 images belonging to 8 classes.\n",
            "Found 3415 images belonging to 8 classes.\n"
          ]
        }
      ]
    },
    {
      "cell_type": "code",
      "source": [
        "from tensorflow.keras import layers, models\n",
        "from tensorflow.keras import metrics\n",
        "\n",
        "model = models.Sequential([\n",
        "    layers.Conv2D(filters=96, kernel_size=(11, 11), strides=(4, 4), activation='relu', input_shape=(224, 224, 3)),\n",
        "    layers.MaxPooling2D(pool_size=(3, 3), strides=(2, 2)),\n",
        "    layers.Conv2D(filters=256, kernel_size=(5, 5), strides=(1, 1), activation='relu', padding=\"same\"),\n",
        "    layers.MaxPooling2D(pool_size=(3, 3), strides=(2, 2)),\n",
        "    layers.Conv2D(filters=384, kernel_size=(3, 3), strides=(1, 1), activation='relu', padding=\"same\"),\n",
        "    layers.Conv2D(filters=384, kernel_size=(3, 3), strides=(1, 1), activation='relu', padding=\"same\"),\n",
        "    layers.Conv2D(filters=256, kernel_size=(3, 3), strides=(1, 1), activation='relu', padding=\"same\"),\n",
        "    layers.MaxPooling2D(pool_size=(3, 3), strides=(2, 2)),\n",
        "    layers.Flatten(),\n",
        "    layers.Dense(4096, activation='relu'),\n",
        "    layers.Dropout(0.5),\n",
        "    layers.Dense(4096, activation='relu'),\n",
        "    layers.Dropout(0.5),\n",
        "    layers.Dense(7, activation='softmax')\n",
        "])\n",
        "\n",
        "model.compile(optimizer='adam',\n",
        "              loss='sparse_categorical_crossentropy',\n",
        "              metrics=['accuracy', metrics.F1Score(), metrics.Precision(), metrics.Recall()])\n",
        "\n",
        "model.summary()\n",
        "\n",
        "history = model.fit(\n",
        "    train_ds,\n",
        "    epochs=10,  # You can adjust the number of epochs\n",
        "    validation_data=val_ds\n",
        ")"
      ],
      "metadata": {
        "id": "2r2CkGlpsrro"
      },
      "execution_count": null,
      "outputs": []
    },
    {
      "cell_type": "code",
      "source": [
        "from tensorflow.keras.applications import ResNet50\n",
        "from tensorflow.keras import metrics\n",
        "\n",
        "# Load the ResNet50 model pre-trained on ImageNet, excluding the top classification layer\n",
        "base_model = ResNet50(weights='imagenet', include_top=False, input_shape=(224, 224, 3))\n",
        "\n",
        "# Freeze the layers of the base model\n",
        "for layer in base_model.layers:\n",
        "    layer.trainable = False\n",
        "\n",
        "# Create a new model\n",
        "model = models.Sequential([\n",
        "    base_model,\n",
        "    layers.Flatten(),\n",
        "    layers.Dense(256, activation='relu'),\n",
        "    layers.Dropout(0.5),\n",
        "    layers.Dense(7, activation='softmax') # Assuming 5 classes\n",
        "])\n",
        "\n",
        "model.compile(optimizer='adam',\n",
        "              loss='sparse_categorical_crossentropy',\n",
        "              metrics=['accuracy', metrics.F1Score(), metrics.Precision(), metrics.Recall()])\n",
        "\n",
        "model.summary()\n",
        "\n",
        "history = model.fit(\n",
        "    train_ds,\n",
        "    epochs=10,  # You can adjust the number of epochs\n",
        "    validation_data=val_ds\n",
        ")"
      ],
      "metadata": {
        "id": "2fx20IgBsruF"
      },
      "execution_count": null,
      "outputs": []
    },
    {
      "cell_type": "code",
      "source": [
        "from tensorflow.keras.applications import EfficientNetB0\n",
        "from tensorflow.keras import metrics\n",
        "\n",
        "# Load the EfficientNetB0 model pre-trained on ImageNet, excluding the top classification layer\n",
        "# You can specify the input shape here\n",
        "base_model_efficientnet = EfficientNetB0(weights='imagenet', include_top=False, input_shape=(224, 224, 3))\n",
        "\n",
        "# Freeze the layers of the base EfficientNetB0 model\n",
        "for layer in base_model_efficientnet.layers:\n",
        "    layer.trainable = False\n",
        "\n",
        "# Create a new model using the EfficientNetB0 base\n",
        "model_efficientnet = models.Sequential([\n",
        "    base_model_efficientnet,\n",
        "    layers.Flatten(),\n",
        "    layers.Dense(256, activation='relu'),\n",
        "    layers.Dropout(0.5),\n",
        "    layers.Dense(7, activation='softmax') # Assuming 5 classes\n",
        "])\n",
        "\n",
        "model_efficientnet.compile(optimizer='adam',\n",
        "              loss='sparse_categorical_crossentropy',\n",
        "              metrics=['accuracy', metrics.F1Score(), metrics.Precision(), metrics.Recall()])\n",
        "\n",
        "model_efficientnet.summary()\n",
        "\n",
        "history_efficientnet = model_efficientnet.fit(\n",
        "    train_ds,\n",
        "    epochs=10,\n",
        "    validation_data=val_ds\n",
        ")"
      ],
      "metadata": {
        "id": "V34nnvRU5LpG"
      },
      "execution_count": null,
      "outputs": []
    },
    {
      "cell_type": "code",
      "source": [
        "import matplotlib.pyplot as plt\n",
        "\n",
        "# Plot training and validation accuracy\n",
        "plt.plot(history.history['accuracy'], label='Training Accuracy')\n",
        "plt.plot(history.history['val_accuracy'], label='Validation Accuracy')\n",
        "plt.xlabel('Epoch')\n",
        "plt.ylabel('Accuracy')\n",
        "plt.title('Training and Validation Accuracy')\n",
        "plt.legend()\n",
        "plt.show()\n",
        "\n",
        "# Plot training and validation loss\n",
        "plt.plot(history.history['loss'], label='Training Loss')\n",
        "plt.plot(history.history['val_loss'], label='Validation Loss')\n",
        "plt.xlabel('Epoch')\n",
        "plt.ylabel('Loss')\n",
        "plt.title('Training and Validation Loss')\n",
        "plt.legend()\n",
        "plt.show()"
      ],
      "metadata": {
        "id": "y3Zy0yMi9Aj7"
      },
      "execution_count": null,
      "outputs": []
    },
    {
      "cell_type": "code",
      "metadata": {
        "id": "7edaf07d"
      },
      "source": [
        "import matplotlib.pyplot as plt\n",
        "\n",
        "# Plot training and validation accuracy for ResNet50\n",
        "plt.plot(history.history['accuracy'], label='ResNet50 Training Accuracy')\n",
        "plt.plot(history.history['val_accuracy'], label='ResNet50 Validation Accuracy')\n",
        "plt.xlabel('Epoch')\n",
        "plt.ylabel('Accuracy')\n",
        "plt.title('ResNet50 Training and Validation Accuracy')\n",
        "plt.legend()\n",
        "plt.show()\n",
        "\n",
        "# Plot training and validation loss for ResNet50\n",
        "plt.plot(history.history['loss'], label='ResNet50 Training Loss')\n",
        "plt.plot(history.history['val_loss'], label='ResNet50 Validation Loss')\n",
        "plt.xlabel('Epoch')\n",
        "plt.ylabel('Loss')\n",
        "plt.title('ResNet50 Training and Validation Loss')\n",
        "plt.legend()\n",
        "plt.show()"
      ],
      "execution_count": null,
      "outputs": []
    },
    {
      "cell_type": "code",
      "metadata": {
        "id": "2f316218"
      },
      "source": [
        "import matplotlib.pyplot as plt\n",
        "\n",
        "# Plot training and validation accuracy for EfficientNetB0\n",
        "plt.plot(history_efficientnet.history['accuracy'], label='EfficientNetB0 Training Accuracy')\n",
        "plt.plot(history_efficientnet.history['val_accuracy'], label='EfficientNetB0 Validation Accuracy')\n",
        "plt.xlabel('Epoch')\n",
        "plt.ylabel('Accuracy')\n",
        "plt.title('EfficientNetB0 Training and Validation Accuracy')\n",
        "plt.legend()\n",
        "plt.show()\n",
        "\n",
        "# Plot training and validation loss for EfficientNetB0\n",
        "plt.plot(history_efficientnet.history['loss'], label='EfficientNetB0 Training Loss')\n",
        "plt.plot(history_efficientnet.history['val_loss'], label='EfficientNetB0 Validation Loss')\n",
        "plt.xlabel('Epoch')\n",
        "plt.ylabel('Loss')\n",
        "plt.title('EfficientNetB0 Training and Validation Loss')\n",
        "plt.legend()\n",
        "plt.show()"
      ],
      "execution_count": null,
      "outputs": []
    }
  ]
}